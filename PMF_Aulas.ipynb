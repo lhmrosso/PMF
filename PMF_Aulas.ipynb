{
  "nbformat": 4,
  "nbformat_minor": 0,
  "metadata": {
    "colab": {
      "provenance": [],
      "authorship_tag": "ABX9TyNGB+36CnYS19AVDnSUeh80"
    },
    "kernelspec": {
      "name": "python3",
      "display_name": "Python 3"
    },
    "language_info": {
      "name": "python"
    }
  },
  "cells": [
    {
      "cell_type": "markdown",
      "source": [
        "<img src = 'https://github.com/Trading-com-Dados/pmf/blob/main/PMF%20003.png?raw=true'>\n",
        "\n",
        "\n",
        "\n",
        "\n"
      ],
      "metadata": {
        "id": "jbHtH76DRjqM"
      }
    },
    {
      "cell_type": "markdown",
      "source": [
        "# 1. Google Colab\n",
        "\n"
      ],
      "metadata": {
        "id": "Tq0oPRGZXAnQ"
      }
    },
    {
      "cell_type": "code",
      "source": [
        "a = [1,2]\n",
        "b = [3,4]\n",
        "print(a+b)\n",
        "C = a+b\n",
        "print(C)"
      ],
      "metadata": {
        "id": "Ry-zYkq5XFR8",
        "colab": {
          "base_uri": "https://localhost:8080/"
        },
        "outputId": "40c1e6cd-cb47-49ec-933d-14b56b0e7e44"
      },
      "execution_count": 2,
      "outputs": [
        {
          "output_type": "stream",
          "name": "stdout",
          "text": [
            "[1, 2, 3, 4]\n"
          ]
        }
      ]
    },
    {
      "cell_type": "markdown",
      "source": [
        "# 2. Outro"
      ],
      "metadata": {
        "id": "lQ5f2do2ZJoz"
      }
    },
    {
      "cell_type": "code",
      "source": [
        "3+3"
      ],
      "metadata": {
        "colab": {
          "base_uri": "https://localhost:8080/"
        },
        "id": "mbt8dG-1ZO7D",
        "outputId": "ced87e96-7a82-41f6-804f-a6a24aa41b2b"
      },
      "execution_count": null,
      "outputs": [
        {
          "output_type": "execute_result",
          "data": {
            "text/plain": [
              "6"
            ]
          },
          "metadata": {},
          "execution_count": 11
        }
      ]
    }
  ]
}